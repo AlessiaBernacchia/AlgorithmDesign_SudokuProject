{
 "cells": [
  {
   "metadata": {},
   "cell_type": "markdown",
   "source": [
    "    Ambrosetti William\n",
    "    Barruscotti Sergio\n",
    "    Bernacchia Alessia\n",
    "    Biddiscombe Alexandra"
   ],
   "id": "2d732c35596933d4"
  },
  {
   "metadata": {},
   "cell_type": "markdown",
   "source": [
    "# Sudoku Solver\n",
    "Design and implement algorithms to solve the famous Sudoku problem. In the Sudoku problem, you are given a partially filled 9×9 2D array, and the goal is to assign digits (from 1 to 9) to the empty cells so that every row, column, and subgrid of size 3×3 contains exactly one instance of the digits from 1 to 9.\n",
    "\n",
    "**Implementation Problem**: implementing an algorithm to solve a particular problem."
   ],
   "id": "de63638b11bd0eb"
  },
  {
   "metadata": {
    "ExecuteTime": {
     "end_time": "2024-12-31T00:25:19.941762Z",
     "start_time": "2024-12-31T00:25:19.930094Z"
    }
   },
   "cell_type": "code",
   "source": [
    "from utils import *\n",
    "import random"
   ],
   "id": "8e9099171d64c7d6",
   "outputs": [],
   "execution_count": 2
  },
  {
   "metadata": {
    "ExecuteTime": {
     "end_time": "2024-12-31T01:13:31.291413Z",
     "start_time": "2024-12-31T01:13:31.260549Z"
    }
   },
   "cell_type": "code",
   "source": [
    "initial_list = [5, 3, 0, 0, 7, 0, 0, 0, 0,\n",
    "                6, 0, 0, 1, 9, 5, 0, 0, 0,\n",
    "                0, 9, 8, 0, 0, 0, 0, 6, 0,\n",
    "                8, 0, 0, 0, 6, 0, 0, 0, 3,\n",
    "                4, 0, 0, 8, 0, 3, 0, 0, 1,\n",
    "                7, 0, 0, 0, 2, 0, 0, 0, 6,\n",
    "                0, 6, 0, 0, 0, 0, 2, 8, 0,\n",
    "                0, 0, 0, 4, 1, 9, 0, 0, 5,\n",
    "                0, 0, 0, 0, 8, 0, 0, 7, 9]\n",
    "initial_sudoku = [[[[5, 3, 0], [0, 7, 0], [0, 0, 0]],\n",
    "                  [[6, 0, 0], [1, 9, 5], [0, 0, 0]],\n",
    "                  [[0, 9, 8], [0, 0, 0], [0, 6, 0]]],\n",
    "                 [[[8, 0, 0], [0, 6, 0], [0, 0, 3]],\n",
    "                  [[4, 0, 0], [8, 0, 3], [0, 0, 1]],\n",
    "                  [[7, 0, 0], [0, 2, 0], [0, 0, 6]]],\n",
    "                 [[[0, 6, 0], [0, 0, 0], [2, 8, 0]],\n",
    "                  [[0, 0, 0], [4, 1, 9], [0, 0, 5]],\n",
    "                  [[0, 0, 0], [0, 8, 0], [0, 7, 9]]]]\n",
    "initial_sudoku"
   ],
   "id": "947c9aba81dc20ea",
   "outputs": [
    {
     "data": {
      "text/plain": [
       "[[[[5, 3, 0], [0, 7, 0], [0, 0, 0]],\n",
       "  [[6, 0, 0], [1, 9, 5], [0, 0, 0]],\n",
       "  [[0, 9, 8], [0, 0, 0], [0, 6, 0]]],\n",
       " [[[8, 0, 0], [0, 6, 0], [0, 0, 3]],\n",
       "  [[4, 0, 0], [8, 0, 3], [0, 0, 1]],\n",
       "  [[7, 0, 0], [0, 2, 0], [0, 0, 6]]],\n",
       " [[[0, 6, 0], [0, 0, 0], [2, 8, 0]],\n",
       "  [[0, 0, 0], [4, 1, 9], [0, 0, 5]],\n",
       "  [[0, 0, 0], [0, 8, 0], [0, 7, 9]]]]"
      ]
     },
     "execution_count": 50,
     "metadata": {},
     "output_type": "execute_result"
    }
   ],
   "execution_count": 50
  },
  {
   "metadata": {
    "ExecuteTime": {
     "end_time": "2024-12-31T01:31:06.564731Z",
     "start_time": "2024-12-31T01:31:06.535803Z"
    }
   },
   "cell_type": "code",
   "source": [
    "sud = initial_sudoku\n",
    "\n",
    "for branch in sud:\n",
    "    if branch == sud[0]:\n",
    "        print('┌─────────┬─────────┬─────────┐')\n",
    "    else:\n",
    "        print('├─────────┼─────────┼─────────┤')\n",
    "    for row in branch:\n",
    "        print('│', end='')\n",
    "        for col in row:\n",
    "            for el in col:\n",
    "                if el == 0:\n",
    "                    print(f' _ ', end='')\n",
    "                else:\n",
    "                    print(f' {el} ', end='')\n",
    "            print('│', end='')\n",
    "        print('')\n",
    "print('└─────────┴─────────┴─────────┘')"
   ],
   "id": "ed4e84b50dcb84f4",
   "outputs": [
    {
     "name": "stdout",
     "output_type": "stream",
     "text": [
      "┌─────────┬─────────┬─────────┐\n",
      "│ 5  3  _ │ _  7  _ │ _  _  _ │\n",
      "│ 6  _  _ │ 1  9  5 │ _  _  _ │\n",
      "│ _  9  8 │ _  _  _ │ _  6  _ │\n",
      "├─────────┼─────────┼─────────┤\n",
      "│ 8  _  _ │ _  6  _ │ _  _  3 │\n",
      "│ 4  _  _ │ 8  _  3 │ _  _  1 │\n",
      "│ 7  _  _ │ _  2  _ │ _  _  6 │\n",
      "├─────────┼─────────┼─────────┤\n",
      "│ _  6  _ │ _  _  _ │ 2  8  _ │\n",
      "│ _  _  _ │ 4  1  9 │ _  _  5 │\n",
      "│ _  _  _ │ _  8  _ │ _  7  9 │\n",
      "└─────────┴─────────┴─────────┘\n"
     ]
    }
   ],
   "execution_count": 72
  },
  {
   "metadata": {
    "ExecuteTime": {
     "end_time": "2024-12-31T01:36:15.473453Z",
     "start_time": "2024-12-31T01:36:15.449764Z"
    }
   },
   "cell_type": "code",
   "source": [
    "sud = initial_list\n",
    "n=len(sud)\n",
    "print(n//3)\n",
    "[i for i in range(0, n, n//3)]\n"
   ],
   "id": "c030d0eff5371d7a",
   "outputs": [
    {
     "name": "stdout",
     "output_type": "stream",
     "text": [
      "27\n"
     ]
    },
    {
     "data": {
      "text/plain": [
       "[0, 27, 54]"
      ]
     },
     "execution_count": 82,
     "metadata": {},
     "output_type": "execute_result"
    }
   ],
   "execution_count": 82
  }
 ],
 "metadata": {
  "kernelspec": {
   "display_name": "Python 3",
   "language": "python",
   "name": "python3"
  },
  "language_info": {
   "codemirror_mode": {
    "name": "ipython",
    "version": 2
   },
   "file_extension": ".py",
   "mimetype": "text/x-python",
   "name": "python",
   "nbconvert_exporter": "python",
   "pygments_lexer": "ipython2",
   "version": "2.7.6"
  }
 },
 "nbformat": 4,
 "nbformat_minor": 5
}
